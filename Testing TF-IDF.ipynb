{
 "cells": [
  {
   "cell_type": "code",
   "execution_count": 70,
   "id": "ded7cf02",
   "metadata": {},
   "outputs": [],
   "source": [
    "from nltk.tokenize import word_tokenize\n",
    "\n"
   ]
  },
  {
   "cell_type": "code",
   "execution_count": 71,
   "id": "3ef13252",
   "metadata": {
    "scrolled": true
   },
   "outputs": [
    {
     "name": "stdout",
     "output_type": "stream",
     "text": [
      "[nltk_data] Downloading package punkt to\n",
      "[nltk_data]     C:\\Users\\HP\\AppData\\Roaming\\nltk_data...\n",
      "[nltk_data]   Package punkt is already up-to-date!\n"
     ]
    },
    {
     "data": {
      "text/plain": [
       "True"
      ]
     },
     "execution_count": 71,
     "metadata": {},
     "output_type": "execute_result"
    }
   ],
   "source": [
    "import nltk\n",
    "nltk.download('punkt')"
   ]
  },
  {
   "cell_type": "code",
   "execution_count": 72,
   "id": "b864337d",
   "metadata": {},
   "outputs": [
    {
     "name": "stdout",
     "output_type": "stream",
     "text": [
      "['Mars', 'is', 'approximately', 'half', 'the', 'diameter', 'of', 'Earth', '.']\n"
     ]
    }
   ],
   "source": [
    "data = \"Mars is approximately half the diameter of Earth.\"\n",
    "print(word_tokenize(data))"
   ]
  },
  {
   "cell_type": "code",
   "execution_count": 73,
   "id": "66091a5d",
   "metadata": {},
   "outputs": [
    {
     "data": {
      "text/plain": [
       "['Mars', 'is', 'approximately', 'half', 'the', 'diameter', 'of', 'Earth', '.']"
      ]
     },
     "execution_count": 73,
     "metadata": {},
     "output_type": "execute_result"
    }
   ],
   "source": [
    "word_tokenize(data)"
   ]
  },
  {
   "cell_type": "code",
   "execution_count": 74,
   "id": "1ce71e71",
   "metadata": {},
   "outputs": [
    {
     "name": "stdout",
     "output_type": "stream",
     "text": [
      "['Mars is a cold desert world.', 'It is half the size of Earth.']\n"
     ]
    }
   ],
   "source": [
    "from nltk.tokenize import sent_tokenize\n",
    "\n",
    "data = \"Mars is a cold desert world. It is half the size of Earth. \"\n",
    "print(sent_tokenize(data))"
   ]
  },
  {
   "cell_type": "code",
   "execution_count": 75,
   "id": "26f40770",
   "metadata": {},
   "outputs": [],
   "source": [
    "file_docs = []\n",
    "\n",
    "with open ('demoDoc.txt') as f:\n",
    "    tokens = sent_tokenize(f.read())\n",
    "    for line in tokens:\n",
    "        file_docs.append(line)"
   ]
  },
  {
   "cell_type": "code",
   "execution_count": 76,
   "id": "66e9c331",
   "metadata": {},
   "outputs": [
    {
     "data": {
      "text/plain": [
       "['Mars is the fourth planet in our solar system.',\n",
       " 'It is second-smallest planet in the Solar System after Mercury.',\n",
       " 'Saturn is yellow planet.']"
      ]
     },
     "execution_count": 76,
     "metadata": {},
     "output_type": "execute_result"
    }
   ],
   "source": [
    "file_docs"
   ]
  },
  {
   "cell_type": "code",
   "execution_count": 77,
   "id": "2eaac6d3",
   "metadata": {},
   "outputs": [
    {
     "data": {
      "text/plain": [
       "['Mars is the fourth planet in our solar system.',\n",
       " 'It is second-smallest planet in the Solar System after Mercury.',\n",
       " 'Saturn is yellow planet.']"
      ]
     },
     "execution_count": 77,
     "metadata": {},
     "output_type": "execute_result"
    }
   ],
   "source": [
    "tokens"
   ]
  },
  {
   "cell_type": "code",
   "execution_count": 78,
   "id": "1b04b01b",
   "metadata": {},
   "outputs": [],
   "source": [
    "import gensim\n"
   ]
  },
  {
   "cell_type": "code",
   "execution_count": 79,
   "id": "84aa105d",
   "metadata": {},
   "outputs": [],
   "source": [
    "from gensim import corpora\n"
   ]
  },
  {
   "cell_type": "code",
   "execution_count": 80,
   "id": "926526a4",
   "metadata": {},
   "outputs": [],
   "source": [
    "gen_docs = [[w.lower() for w in word_tokenize(text)] \n",
    "            for text in file_docs]"
   ]
  },
  {
   "cell_type": "code",
   "execution_count": 81,
   "id": "e52dcfaf",
   "metadata": {},
   "outputs": [],
   "source": [
    "dictionary = gensim.corpora.Dictionary(gen_docs)"
   ]
  },
  {
   "cell_type": "code",
   "execution_count": 82,
   "id": "35d220af",
   "metadata": {},
   "outputs": [
    {
     "data": {
      "text/plain": [
       "<gensim.corpora.dictionary.Dictionary at 0x18f9193a148>"
      ]
     },
     "execution_count": 82,
     "metadata": {},
     "output_type": "execute_result"
    }
   ],
   "source": [
    "dictionary"
   ]
  },
  {
   "cell_type": "code",
   "execution_count": 83,
   "id": "39fc119f",
   "metadata": {},
   "outputs": [
    {
     "data": {
      "text/plain": [
       "{'.': 0,\n",
       " 'fourth': 1,\n",
       " 'in': 2,\n",
       " 'is': 3,\n",
       " 'mars': 4,\n",
       " 'our': 5,\n",
       " 'planet': 6,\n",
       " 'solar': 7,\n",
       " 'system': 8,\n",
       " 'the': 9,\n",
       " 'after': 10,\n",
       " 'it': 11,\n",
       " 'mercury': 12,\n",
       " 'second-smallest': 13,\n",
       " 'saturn': 14,\n",
       " 'yellow': 15}"
      ]
     },
     "execution_count": 83,
     "metadata": {},
     "output_type": "execute_result"
    }
   ],
   "source": [
    "dictionary.token2id"
   ]
  },
  {
   "cell_type": "code",
   "execution_count": 84,
   "id": "0b5aa7ef",
   "metadata": {},
   "outputs": [],
   "source": [
    "#The next important object you need to familiarize with in order to work in gensim is the Corpus (a Bag of Words or BoW). It is a basically an object that contains the word id and its frequency in each document (just lists the number of times each word occurs in the sentence)."
   ]
  },
  {
   "cell_type": "code",
   "execution_count": 85,
   "id": "72b01842",
   "metadata": {},
   "outputs": [],
   "source": [
    "corpus = [dictionary.doc2bow(gen_doc) for gen_doc in gen_docs]"
   ]
  },
  {
   "cell_type": "code",
   "execution_count": 86,
   "id": "3888c45c",
   "metadata": {},
   "outputs": [
    {
     "data": {
      "text/plain": [
       "[[(0, 1),\n",
       "  (1, 1),\n",
       "  (2, 1),\n",
       "  (3, 1),\n",
       "  (4, 1),\n",
       "  (5, 1),\n",
       "  (6, 1),\n",
       "  (7, 1),\n",
       "  (8, 1),\n",
       "  (9, 1)],\n",
       " [(0, 1),\n",
       "  (2, 1),\n",
       "  (3, 1),\n",
       "  (6, 1),\n",
       "  (7, 1),\n",
       "  (8, 1),\n",
       "  (9, 1),\n",
       "  (10, 1),\n",
       "  (11, 1),\n",
       "  (12, 1),\n",
       "  (13, 1)],\n",
       " [(0, 1), (3, 1), (6, 1), (14, 1), (15, 1)]]"
      ]
     },
     "execution_count": 86,
     "metadata": {},
     "output_type": "execute_result"
    }
   ],
   "source": [
    "corpus"
   ]
  },
  {
   "cell_type": "code",
   "execution_count": 87,
   "id": "92c6d771",
   "metadata": {},
   "outputs": [],
   "source": [
    "#the above representation means that the word with Id=12 ('the') is repeated twice (freq=2) in the 2nd sentence"
   ]
  },
  {
   "cell_type": "code",
   "execution_count": 88,
   "id": "c1468ca3",
   "metadata": {},
   "outputs": [],
   "source": [
    "#Term Frequency – Inverse Document Frequency(TF-IDF) is also a bag-of-words model but unlike the regular corpus, TFIDF down weights tokens (words) that appears frequently across documents."
   ]
  },
  {
   "cell_type": "code",
   "execution_count": 89,
   "id": "b65700d1",
   "metadata": {},
   "outputs": [],
   "source": [
    "data=\"This is the space. This is our planet. This is the Mars.\""
   ]
  },
  {
   "cell_type": "code",
   "execution_count": 90,
   "id": "902dd90b",
   "metadata": {},
   "outputs": [],
   "source": [
    "file_docs=[]"
   ]
  },
  {
   "cell_type": "code",
   "execution_count": 91,
   "id": "7e134f01",
   "metadata": {},
   "outputs": [],
   "source": [
    "tokens = sent_tokenize(data)\n",
    "for line in tokens:\n",
    "    file_docs.append(line)"
   ]
  },
  {
   "cell_type": "code",
   "execution_count": 92,
   "id": "ceac9264",
   "metadata": {},
   "outputs": [
    {
     "data": {
      "text/plain": [
       "['This is the space.', 'This is our planet.', 'This is the Mars.']"
      ]
     },
     "execution_count": 92,
     "metadata": {},
     "output_type": "execute_result"
    }
   ],
   "source": [
    "file_docs\n"
   ]
  },
  {
   "cell_type": "code",
   "execution_count": 93,
   "id": "c014d51d",
   "metadata": {},
   "outputs": [],
   "source": [
    "gen_docs = [[w.lower() for w in word_tokenize(text)] \n",
    "            for text in file_docs]"
   ]
  },
  {
   "cell_type": "code",
   "execution_count": 94,
   "id": "cb51b20a",
   "metadata": {},
   "outputs": [],
   "source": [
    "dictionary = gensim.corpora.Dictionary(gen_docs)"
   ]
  },
  {
   "cell_type": "code",
   "execution_count": 95,
   "id": "43abe66d",
   "metadata": {},
   "outputs": [
    {
     "data": {
      "text/plain": [
       "<gensim.corpora.dictionary.Dictionary at 0x18f91917cc8>"
      ]
     },
     "execution_count": 95,
     "metadata": {},
     "output_type": "execute_result"
    }
   ],
   "source": [
    "dictionary"
   ]
  },
  {
   "cell_type": "code",
   "execution_count": 96,
   "id": "1f4b0496",
   "metadata": {},
   "outputs": [
    {
     "data": {
      "text/plain": [
       "{'.': 0,\n",
       " 'is': 1,\n",
       " 'space': 2,\n",
       " 'the': 3,\n",
       " 'this': 4,\n",
       " 'our': 5,\n",
       " 'planet': 6,\n",
       " 'mars': 7}"
      ]
     },
     "execution_count": 96,
     "metadata": {},
     "output_type": "execute_result"
    }
   ],
   "source": [
    "dictionary.token2id"
   ]
  },
  {
   "cell_type": "code",
   "execution_count": 97,
   "id": "fac3e6ac",
   "metadata": {},
   "outputs": [],
   "source": [
    "corpus = [dictionary.doc2bow(gen_doc) for gen_doc in gen_docs]"
   ]
  },
  {
   "cell_type": "code",
   "execution_count": 98,
   "id": "f466bd56",
   "metadata": {},
   "outputs": [
    {
     "data": {
      "text/plain": [
       "[[(0, 1), (1, 1), (2, 1), (3, 1), (4, 1)],\n",
       " [(0, 1), (1, 1), (4, 1), (5, 1), (6, 1)],\n",
       " [(0, 1), (1, 1), (3, 1), (4, 1), (7, 1)]]"
      ]
     },
     "execution_count": 98,
     "metadata": {},
     "output_type": "execute_result"
    }
   ],
   "source": [
    "corpus\n"
   ]
  },
  {
   "cell_type": "code",
   "execution_count": 99,
   "id": "3096bf6c",
   "metadata": {},
   "outputs": [],
   "source": [
    "import numpy as np"
   ]
  },
  {
   "cell_type": "code",
   "execution_count": 100,
   "id": "086cce29",
   "metadata": {},
   "outputs": [
    {
     "name": "stdout",
     "output_type": "stream",
     "text": [
      "[['space', 0.94], ['the', 0.35]]\n",
      "[['our', 0.71], ['planet', 0.71]]\n",
      "[['the', 0.35], ['mars', 0.94]]\n"
     ]
    }
   ],
   "source": [
    "tf_idf = gensim.models.TfidfModel(corpus)\n",
    "for doc in tf_idf[corpus]:\n",
    "    print([[dictionary[id], np.around(freq, decimals=2)] for id, freq in doc])"
   ]
  },
  {
   "cell_type": "code",
   "execution_count": 101,
   "id": "ce5a57e2",
   "metadata": {},
   "outputs": [],
   "source": [
    "#The word ‘the’ occurs in two documents so it weighted down. \n",
    "#The word ‘this’ and 'is' appearing in all three documents so removed altogether."
   ]
  },
  {
   "cell_type": "code",
   "execution_count": 102,
   "id": "3a046100",
   "metadata": {},
   "outputs": [],
   "source": [
    "sims = gensim.similarities.Similarity('workdir/',tf_idf[corpus],\n",
    "                                        num_features=len(dictionary))"
   ]
  },
  {
   "cell_type": "code",
   "execution_count": null,
   "id": "89f0962b",
   "metadata": {},
   "outputs": [],
   "source": []
  },
  {
   "cell_type": "code",
   "execution_count": null,
   "id": "fc961062",
   "metadata": {},
   "outputs": [],
   "source": []
  }
 ],
 "metadata": {
  "kernelspec": {
   "display_name": "Python 3",
   "language": "python",
   "name": "python3"
  },
  "language_info": {
   "codemirror_mode": {
    "name": "ipython",
    "version": 3
   },
   "file_extension": ".py",
   "mimetype": "text/x-python",
   "name": "python",
   "nbconvert_exporter": "python",
   "pygments_lexer": "ipython3",
   "version": "3.7.10"
  }
 },
 "nbformat": 4,
 "nbformat_minor": 5
}
